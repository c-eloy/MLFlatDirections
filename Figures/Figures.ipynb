{
 "cells": [
  {
   "cell_type": "code",
   "execution_count": null,
   "id": "7b23d71a",
   "metadata": {},
   "outputs": [],
   "source": [
    "import matplotlib.pyplot as plt\n",
    "\n",
    "plt.rcParams.update({\n",
    "    \"text.usetex\": True,\n",
    "    \"font.family\": \"Helvetica\"\n",
    "})\n",
    "\n",
    "plt.rcParams['mathtext.fontset'] = 'cm'\n",
    "plt.rcParams['font.family'] = 'cmu'\n",
    "plt.rcParams['xtick.labelsize'] = 12\n",
    "plt.rcParams['ytick.labelsize'] = 12\n",
    "plt.rcParams['axes.labelsize'] = 13\n",
    "\n",
    "my_colors = [[0.1,0.3,0.45],[0.65,0.35,0],[0.5,0.0,0.13],[0.08,0.48,0.31],[0.75,0.36,0.51],[0.99,0.86,0.18],[1.0,0.84,0.64]]"
   ]
  },
  {
   "cell_type": "markdown",
   "id": "fafb3861",
   "metadata": {},
   "source": [
    "Pie chart for the repartition of the number of distinct polynomials found in the runs"
   ]
  },
  {
   "cell_type": "code",
   "execution_count": 55,
   "id": "e1e3d225",
   "metadata": {},
   "outputs": [
    {
     "data": {
      "image/png": "[encoded data removed]",
      "text/plain": [
       "<Figure size 432x288 with 1 Axes>"
      ]
     },
     "metadata": {},
     "output_type": "display_data"
    }
   ],
   "source": [
    "sizes = [223, 3, 332, 426, 16]\n",
    "\n",
    "fig, ax = plt.subplots()\n",
    "patches, texts = ax.pie(sizes, labels=sizes, labeldistance=.6, colors=[[0.16, 0.48, 0.72], my_colors[3], [0.96,0.51,0], [0.8,0.19,0.2], my_colors[5]], radius=0.75)\n",
    "legend = plt.legend([patches[1],patches[0],patches[2],patches[3],patches[4]], [0,1,2,3,4], loc='center right', title='Number of annihilator\\npolynomial for a run', bbox_to_anchor=(1.5, 0.5))\n",
    "plt.setp(legend.get_title(), fontweight='bold')\n",
    "plt.savefig('Piechart_n_pols.pdf', bbox_inches=\"tight\")\n",
    "plt.show()"
   ]
  },
  {
   "cell_type": "code",
   "execution_count": 25,
   "id": "7b0dae23",
   "metadata": {},
   "outputs": [
    {
     "data": {
      "text/plain": [
       "[<matplotlib.patches.Wedge at 0x73d527c5d510>,\n",
       " <matplotlib.patches.Wedge at 0x73d527c5d9f0>,\n",
       " <matplotlib.patches.Wedge at 0x73d527c5ded0>,\n",
       " <matplotlib.patches.Wedge at 0x73d527c5e3b0>,\n",
       " <matplotlib.patches.Wedge at 0x73d527c5e890>]"
      ]
     },
     "execution_count": 25,
     "metadata": {},
     "output_type": "execute_result"
    }
   ],
   "source": [
    "patches"
   ]
  },
  {
   "cell_type": "code",
   "execution_count": null,
   "id": "3a0b55ed",
   "metadata": {},
   "outputs": [],
   "source": []
  }
 ],
 "metadata": {
  "kernelspec": {
   "display_name": "Python 3",
   "language": "python",
   "name": "python3"
  },
  "language_info": {
   "codemirror_mode": {
    "name": "ipython",
    "version": 3
   },
   "file_extension": ".py",
   "mimetype": "text/x-python",
   "name": "python",
   "nbconvert_exporter": "python",
   "pygments_lexer": "ipython3",
   "version": "3.10.12"
  }
 },
 "nbformat": 4,
 "nbformat_minor": 5
}
